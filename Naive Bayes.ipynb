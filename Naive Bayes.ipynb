{
 "cells": [
  {
   "cell_type": "code",
   "execution_count": 1,
   "metadata": {},
   "outputs": [],
   "source": [
    "import numpy as np\n",
    "import pandas as pd"
   ]
  },
  {
   "cell_type": "code",
   "execution_count": 2,
   "metadata": {},
   "outputs": [
    {
     "data": {
      "text/html": [
       "<div>\n",
       "<style scoped>\n",
       "    .dataframe tbody tr th:only-of-type {\n",
       "        vertical-align: middle;\n",
       "    }\n",
       "\n",
       "    .dataframe tbody tr th {\n",
       "        vertical-align: top;\n",
       "    }\n",
       "\n",
       "    .dataframe thead th {\n",
       "        text-align: right;\n",
       "    }\n",
       "</style>\n",
       "<table border=\"1\" class=\"dataframe\">\n",
       "  <thead>\n",
       "    <tr style=\"text-align: right;\">\n",
       "      <th></th>\n",
       "      <th>Department</th>\n",
       "      <th>Age</th>\n",
       "      <th>Salary</th>\n",
       "      <th>Status</th>\n",
       "    </tr>\n",
       "  </thead>\n",
       "  <tbody>\n",
       "    <tr>\n",
       "      <th>0</th>\n",
       "      <td>sales</td>\n",
       "      <td>31...35</td>\n",
       "      <td>46K-50K</td>\n",
       "      <td>senior</td>\n",
       "    </tr>\n",
       "    <tr>\n",
       "      <th>1</th>\n",
       "      <td>sales</td>\n",
       "      <td>26...30</td>\n",
       "      <td>26K-30K</td>\n",
       "      <td>junior</td>\n",
       "    </tr>\n",
       "    <tr>\n",
       "      <th>2</th>\n",
       "      <td>sales</td>\n",
       "      <td>31...35</td>\n",
       "      <td>31K-35K</td>\n",
       "      <td>junior</td>\n",
       "    </tr>\n",
       "    <tr>\n",
       "      <th>3</th>\n",
       "      <td>systems</td>\n",
       "      <td>21...25</td>\n",
       "      <td>46K-50K</td>\n",
       "      <td>junior</td>\n",
       "    </tr>\n",
       "    <tr>\n",
       "      <th>4</th>\n",
       "      <td>systems</td>\n",
       "      <td>31...35</td>\n",
       "      <td>66K-70K</td>\n",
       "      <td>senior</td>\n",
       "    </tr>\n",
       "    <tr>\n",
       "      <th>5</th>\n",
       "      <td>systems</td>\n",
       "      <td>26...30</td>\n",
       "      <td>46K-50K</td>\n",
       "      <td>junior</td>\n",
       "    </tr>\n",
       "    <tr>\n",
       "      <th>6</th>\n",
       "      <td>systems</td>\n",
       "      <td>41...45</td>\n",
       "      <td>66K-70K</td>\n",
       "      <td>senior</td>\n",
       "    </tr>\n",
       "    <tr>\n",
       "      <th>7</th>\n",
       "      <td>marketing</td>\n",
       "      <td>36...40</td>\n",
       "      <td>46K-50K</td>\n",
       "      <td>senior</td>\n",
       "    </tr>\n",
       "    <tr>\n",
       "      <th>8</th>\n",
       "      <td>marketing</td>\n",
       "      <td>31...35</td>\n",
       "      <td>41K-45K</td>\n",
       "      <td>junior</td>\n",
       "    </tr>\n",
       "    <tr>\n",
       "      <th>9</th>\n",
       "      <td>secretary</td>\n",
       "      <td>46...50</td>\n",
       "      <td>36K-40K</td>\n",
       "      <td>senior</td>\n",
       "    </tr>\n",
       "    <tr>\n",
       "      <th>10</th>\n",
       "      <td>secretary</td>\n",
       "      <td>26...30</td>\n",
       "      <td>26K-30K</td>\n",
       "      <td>junior</td>\n",
       "    </tr>\n",
       "  </tbody>\n",
       "</table>\n",
       "</div>"
      ],
      "text/plain": [
       "   Department      Age   Salary  Status\n",
       "0       sales  31...35  46K-50K  senior\n",
       "1       sales  26...30  26K-30K  junior\n",
       "2       sales  31...35  31K-35K  junior\n",
       "3     systems  21...25  46K-50K  junior\n",
       "4     systems  31...35  66K-70K  senior\n",
       "5     systems  26...30  46K-50K  junior\n",
       "6     systems  41...45  66K-70K  senior\n",
       "7   marketing  36...40  46K-50K  senior\n",
       "8   marketing  31...35  41K-45K  junior\n",
       "9   secretary  46...50  36K-40K  senior\n",
       "10  secretary  26...30  26K-30K  junior"
      ]
     },
     "execution_count": 2,
     "metadata": {},
     "output_type": "execute_result"
    }
   ],
   "source": [
    "# Database\n",
    "employee = {\n",
    "    \"Department\": [\"sales\",\"sales\",\"sales\",\"systems\",\"systems\",\"systems\",\"systems\",\"marketing\",\"marketing\", \"secretary\",\"secretary\"],\n",
    "    \"Age\": [\"31...35\",\"26...30\",\"31...35\",\"21...25\",\"31...35\",\"26...30\",\"41...45\",\"36...40\",\"31...35\",\"46...50\",\"26...30\"],\n",
    "    \"Salary\": [\"46K-50K\",\"26K-30K\",\"31K-35K\",\"46K-50K\",\"66K-70K\",\"46K-50K\",\"66K-70K\",\"46K-50K\",\"41K-45K\",\"36K-40K\",\"26K-30K\"],\n",
    "    \"Status\": [\"senior\",\"junior\",\"junior\",\"junior\",\"senior\",\"junior\",\"senior\",\"senior\",\"junior\",\"senior\",\"junior\"],\n",
    "}\n",
    "\n",
    "# Convert data into DataFrame\n",
    "employee = pd.DataFrame(employee)\n",
    "employee"
   ]
  },
  {
   "cell_type": "code",
   "execution_count": 3,
   "metadata": {},
   "outputs": [],
   "source": [
    "# Naive Bayes Train Function\n",
    "def NBTrain(data, laplace = 0):\n",
    "    \n",
    "    # Calculate Prior Probablities \n",
    "    y_classes = data[\"Status\"].unique()\n",
    "    y_classes_len = len(y_classes)\n",
    "    prior_P = np.zeros(y_classes_len)\n",
    "    for i in range(0,y_classes_len):\n",
    "        obs = sum(data['Status'] == y_classes[i]) + laplace\n",
    "        total = len(data['Status']) + 2 * laplace\n",
    "        prior_P[i] =  obs / total\n",
    "        \n",
    "    # Calculate Conditional Probablities\n",
    "    cond_P = {}\n",
    "    for column in data.columns[:-1]:\n",
    "        x_classes = list(set(data[column]))\n",
    "        x_classes_len = len(x_classes)\n",
    "        x_cond_P = np.zeros((y_classes_len, len(set(data[column]))))\n",
    "        \n",
    "        for a in range(0, y_classes_len):\n",
    "            for b in range(0, x_classes_len):\n",
    "                count = data.loc[(data[column] == x_classes[b]) & (data['Status'] == y_classes[a]),].shape[0] + laplace\n",
    "                total = sum(data[\"Status\"] == y_classes[a]) + x_classes_len * laplace\n",
    "                x_cond_P[a][b] = count / total\n",
    "                \n",
    "        x_cond_P = pd.DataFrame(x_cond_P,columns=x_classes,index=y_classes)   \n",
    "        cond_P[column] = x_cond_P\n",
    "    \n",
    "    return prior_P, cond_P"
   ]
  },
  {
   "cell_type": "code",
   "execution_count": 4,
   "metadata": {},
   "outputs": [],
   "source": [
    "# Train Classifier on Employee Data\n",
    "prior_P, cond_P = NBTrain(employee, laplace = 1)"
   ]
  },
  {
   "cell_type": "code",
   "execution_count": 5,
   "metadata": {},
   "outputs": [
    {
     "data": {
      "text/plain": [
       "array([0.46153846, 0.53846154])"
      ]
     },
     "execution_count": 5,
     "metadata": {},
     "output_type": "execute_result"
    }
   ],
   "source": [
    "prior_P"
   ]
  },
  {
   "cell_type": "code",
   "execution_count": 6,
   "metadata": {},
   "outputs": [
    {
     "data": {
      "text/html": [
       "<div>\n",
       "<style scoped>\n",
       "    .dataframe tbody tr th:only-of-type {\n",
       "        vertical-align: middle;\n",
       "    }\n",
       "\n",
       "    .dataframe tbody tr th {\n",
       "        vertical-align: top;\n",
       "    }\n",
       "\n",
       "    .dataframe thead th {\n",
       "        text-align: right;\n",
       "    }\n",
       "</style>\n",
       "<table border=\"1\" class=\"dataframe\">\n",
       "  <thead>\n",
       "    <tr style=\"text-align: right;\">\n",
       "      <th></th>\n",
       "      <th>marketing</th>\n",
       "      <th>systems</th>\n",
       "      <th>sales</th>\n",
       "      <th>secretary</th>\n",
       "    </tr>\n",
       "  </thead>\n",
       "  <tbody>\n",
       "    <tr>\n",
       "      <th>senior</th>\n",
       "      <td>0.222222</td>\n",
       "      <td>0.333333</td>\n",
       "      <td>0.222222</td>\n",
       "      <td>0.222222</td>\n",
       "    </tr>\n",
       "    <tr>\n",
       "      <th>junior</th>\n",
       "      <td>0.200000</td>\n",
       "      <td>0.300000</td>\n",
       "      <td>0.300000</td>\n",
       "      <td>0.200000</td>\n",
       "    </tr>\n",
       "  </tbody>\n",
       "</table>\n",
       "</div>"
      ],
      "text/plain": [
       "        marketing   systems     sales  secretary\n",
       "senior   0.222222  0.333333  0.222222   0.222222\n",
       "junior   0.200000  0.300000  0.300000   0.200000"
      ]
     },
     "execution_count": 6,
     "metadata": {},
     "output_type": "execute_result"
    }
   ],
   "source": [
    "cond_P[\"Department\"]"
   ]
  },
  {
   "cell_type": "code",
   "execution_count": 7,
   "metadata": {},
   "outputs": [
    {
     "data": {
      "text/html": [
       "<div>\n",
       "<style scoped>\n",
       "    .dataframe tbody tr th:only-of-type {\n",
       "        vertical-align: middle;\n",
       "    }\n",
       "\n",
       "    .dataframe tbody tr th {\n",
       "        vertical-align: top;\n",
       "    }\n",
       "\n",
       "    .dataframe thead th {\n",
       "        text-align: right;\n",
       "    }\n",
       "</style>\n",
       "<table border=\"1\" class=\"dataframe\">\n",
       "  <thead>\n",
       "    <tr style=\"text-align: right;\">\n",
       "      <th></th>\n",
       "      <th>31...35</th>\n",
       "      <th>41...45</th>\n",
       "      <th>26...30</th>\n",
       "      <th>46...50</th>\n",
       "      <th>21...25</th>\n",
       "      <th>36...40</th>\n",
       "    </tr>\n",
       "  </thead>\n",
       "  <tbody>\n",
       "    <tr>\n",
       "      <th>senior</th>\n",
       "      <td>0.272727</td>\n",
       "      <td>0.181818</td>\n",
       "      <td>0.090909</td>\n",
       "      <td>0.181818</td>\n",
       "      <td>0.090909</td>\n",
       "      <td>0.181818</td>\n",
       "    </tr>\n",
       "    <tr>\n",
       "      <th>junior</th>\n",
       "      <td>0.250000</td>\n",
       "      <td>0.083333</td>\n",
       "      <td>0.333333</td>\n",
       "      <td>0.083333</td>\n",
       "      <td>0.166667</td>\n",
       "      <td>0.083333</td>\n",
       "    </tr>\n",
       "  </tbody>\n",
       "</table>\n",
       "</div>"
      ],
      "text/plain": [
       "         31...35   41...45   26...30   46...50   21...25   36...40\n",
       "senior  0.272727  0.181818  0.090909  0.181818  0.090909  0.181818\n",
       "junior  0.250000  0.083333  0.333333  0.083333  0.166667  0.083333"
      ]
     },
     "execution_count": 7,
     "metadata": {},
     "output_type": "execute_result"
    }
   ],
   "source": [
    "cond_P[\"Age\"]"
   ]
  },
  {
   "cell_type": "code",
   "execution_count": 8,
   "metadata": {},
   "outputs": [
    {
     "data": {
      "text/html": [
       "<div>\n",
       "<style scoped>\n",
       "    .dataframe tbody tr th:only-of-type {\n",
       "        vertical-align: middle;\n",
       "    }\n",
       "\n",
       "    .dataframe tbody tr th {\n",
       "        vertical-align: top;\n",
       "    }\n",
       "\n",
       "    .dataframe thead th {\n",
       "        text-align: right;\n",
       "    }\n",
       "</style>\n",
       "<table border=\"1\" class=\"dataframe\">\n",
       "  <thead>\n",
       "    <tr style=\"text-align: right;\">\n",
       "      <th></th>\n",
       "      <th>66K-70K</th>\n",
       "      <th>41K-45K</th>\n",
       "      <th>46K-50K</th>\n",
       "      <th>36K-40K</th>\n",
       "      <th>31K-35K</th>\n",
       "      <th>26K-30K</th>\n",
       "    </tr>\n",
       "  </thead>\n",
       "  <tbody>\n",
       "    <tr>\n",
       "      <th>senior</th>\n",
       "      <td>0.272727</td>\n",
       "      <td>0.090909</td>\n",
       "      <td>0.272727</td>\n",
       "      <td>0.181818</td>\n",
       "      <td>0.090909</td>\n",
       "      <td>0.090909</td>\n",
       "    </tr>\n",
       "    <tr>\n",
       "      <th>junior</th>\n",
       "      <td>0.083333</td>\n",
       "      <td>0.166667</td>\n",
       "      <td>0.250000</td>\n",
       "      <td>0.083333</td>\n",
       "      <td>0.166667</td>\n",
       "      <td>0.250000</td>\n",
       "    </tr>\n",
       "  </tbody>\n",
       "</table>\n",
       "</div>"
      ],
      "text/plain": [
       "         66K-70K   41K-45K   46K-50K   36K-40K   31K-35K   26K-30K\n",
       "senior  0.272727  0.090909  0.272727  0.181818  0.090909  0.090909\n",
       "junior  0.083333  0.166667  0.250000  0.083333  0.166667  0.250000"
      ]
     },
     "execution_count": 8,
     "metadata": {},
     "output_type": "execute_result"
    }
   ],
   "source": [
    "cond_P[\"Salary\"]"
   ]
  },
  {
   "cell_type": "code",
   "execution_count": 9,
   "metadata": {},
   "outputs": [],
   "source": [
    "# Prediction Function\n",
    "def NBPrediction(pred):\n",
    "    department, age, salary = pred\n",
    "    P = {}\n",
    "    P[\"senior\"] = prior_P[0]*cond_P[\"Department\"][department][0]*cond_P[\"Age\"][age][0]*cond_P[\"Salary\"][salary][0]\n",
    "    P[\"junior\"] = prior_P[1]*cond_P[\"Department\"][department][1]*cond_P[\"Age\"][age][1]*cond_P[\"Salary\"][salary][1]\n",
    "    \n",
    "    ans = max(P, key=P.get)\n",
    "    \n",
    "    return ans, P[ans]"
   ]
  },
  {
   "cell_type": "code",
   "execution_count": 10,
   "metadata": {},
   "outputs": [
    {
     "name": "stdout",
     "output_type": "stream",
     "text": [
      "('senior', 0.007628734901462173)\n",
      "('senior', 0.007628734901462173)\n",
      "('junior', 0.013461538461538459)\n"
     ]
    }
   ],
   "source": [
    "# Testing Classifier\n",
    "a = NBPrediction([\"marketing\", \"31...35\", \"46K-50K\"])\n",
    "b = NBPrediction([\"sales\", \"31...35\", \"66K-70K\"])\n",
    "c = NBPrediction([\"systems\", \"26...30\", \"46K-50K\"])\n",
    "\n",
    "print(a)\n",
    "print(b)\n",
    "print(c)"
   ]
  },
  {
   "cell_type": "code",
   "execution_count": null,
   "metadata": {},
   "outputs": [],
   "source": []
  }
 ],
 "metadata": {
  "kernelspec": {
   "display_name": "Python 3",
   "language": "python",
   "name": "python3"
  },
  "language_info": {
   "codemirror_mode": {
    "name": "ipython",
    "version": 3
   },
   "file_extension": ".py",
   "mimetype": "text/x-python",
   "name": "python",
   "nbconvert_exporter": "python",
   "pygments_lexer": "ipython3",
   "version": "3.8.3"
  }
 },
 "nbformat": 4,
 "nbformat_minor": 4
}
