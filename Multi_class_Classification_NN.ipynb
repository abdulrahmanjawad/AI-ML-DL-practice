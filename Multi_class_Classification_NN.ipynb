{
 "cells": [
  {
   "cell_type": "code",
   "execution_count": null,
   "id": "jOTt4CiQQyWE",
   "metadata": {
    "colab": {
     "base_uri": "https://localhost:8080/"
    },
    "id": "jOTt4CiQQyWE",
    "outputId": "485d696e-5db1-4874-b767-fe0dbe27302e"
   },
   "outputs": [
    {
     "name": "stdout",
     "output_type": "stream",
     "text": [
      "Mounted at /content/drive\n"
     ]
    }
   ],
   "source": [
    "from google.colab import drive\n",
    "drive.mount('/content/drive')"
   ]
  },
  {
   "cell_type": "code",
   "execution_count": null,
   "id": "UAx_7tzARJV2",
   "metadata": {
    "id": "UAx_7tzARJV2"
   },
   "outputs": [],
   "source": [
    "!cp /content/drive/MyDrive/lab/TestSet-withLabels.xlsx /content/dataset/\n",
    "!cp /content/drive/MyDrive/lab/TrainingSet.xlsx /content/dataset/"
   ]
  },
  {
   "cell_type": "markdown",
   "id": "on4vWRx0hsEF",
   "metadata": {
    "id": "on4vWRx0hsEF"
   },
   "source": [
    "## Import datasets"
   ]
  },
  {
   "cell_type": "code",
   "execution_count": null,
   "id": "18bec0b1",
   "metadata": {
    "id": "18bec0b1"
   },
   "outputs": [],
   "source": [
    "import numpy as np\n",
    "import pandas as pd"
   ]
  },
  {
   "cell_type": "code",
   "execution_count": null,
   "id": "f80d9955",
   "metadata": {
    "id": "f80d9955"
   },
   "outputs": [],
   "source": [
    "train = pd.read_excel('dataset/TrainingSet.xlsx', engine = 'openpyxl')\n",
    "test = pd.read_excel('dataset/TestSet-withLabels.xlsx', engine = 'openpyxl')"
   ]
  },
  {
   "cell_type": "code",
   "execution_count": null,
   "id": "0TNQdCEYR_Kg",
   "metadata": {
    "colab": {
     "base_uri": "https://localhost:8080/",
     "height": 206
    },
    "id": "0TNQdCEYR_Kg",
    "outputId": "bffe7ee6-2b6f-499c-febb-88c07ac8fb0e"
   },
   "outputs": [
    {
     "data": {
      "text/html": [
       "<div>\n",
       "<style scoped>\n",
       "    .dataframe tbody tr th:only-of-type {\n",
       "        vertical-align: middle;\n",
       "    }\n",
       "\n",
       "    .dataframe tbody tr th {\n",
       "        vertical-align: top;\n",
       "    }\n",
       "\n",
       "    .dataframe thead th {\n",
       "        text-align: right;\n",
       "    }\n",
       "</style>\n",
       "<table border=\"1\" class=\"dataframe\">\n",
       "  <thead>\n",
       "    <tr style=\"text-align: right;\">\n",
       "      <th></th>\n",
       "      <th>leaf.length</th>\n",
       "      <th>leaf.width</th>\n",
       "      <th>flower.length</th>\n",
       "      <th>flower.width</th>\n",
       "      <th>plant</th>\n",
       "    </tr>\n",
       "  </thead>\n",
       "  <tbody>\n",
       "    <tr>\n",
       "      <th>0</th>\n",
       "      <td>5.4</td>\n",
       "      <td>3.7</td>\n",
       "      <td>1.5</td>\n",
       "      <td>0.2</td>\n",
       "      <td>Arctica</td>\n",
       "    </tr>\n",
       "    <tr>\n",
       "      <th>1</th>\n",
       "      <td>4.8</td>\n",
       "      <td>3.4</td>\n",
       "      <td>1.6</td>\n",
       "      <td>0.2</td>\n",
       "      <td>Arctica</td>\n",
       "    </tr>\n",
       "    <tr>\n",
       "      <th>2</th>\n",
       "      <td>4.8</td>\n",
       "      <td>3.0</td>\n",
       "      <td>1.4</td>\n",
       "      <td>0.1</td>\n",
       "      <td>Arctica</td>\n",
       "    </tr>\n",
       "    <tr>\n",
       "      <th>3</th>\n",
       "      <td>4.3</td>\n",
       "      <td>3.0</td>\n",
       "      <td>1.1</td>\n",
       "      <td>0.1</td>\n",
       "      <td>Arctica</td>\n",
       "    </tr>\n",
       "    <tr>\n",
       "      <th>4</th>\n",
       "      <td>5.8</td>\n",
       "      <td>4.0</td>\n",
       "      <td>1.2</td>\n",
       "      <td>0.2</td>\n",
       "      <td>Arctica</td>\n",
       "    </tr>\n",
       "  </tbody>\n",
       "</table>\n",
       "</div>"
      ],
      "text/plain": [
       "   leaf.length  leaf.width  flower.length  flower.width    plant\n",
       "0          5.4         3.7            1.5           0.2  Arctica\n",
       "1          4.8         3.4            1.6           0.2  Arctica\n",
       "2          4.8         3.0            1.4           0.1  Arctica\n",
       "3          4.3         3.0            1.1           0.1  Arctica\n",
       "4          5.8         4.0            1.2           0.2  Arctica"
      ]
     },
     "execution_count": 172,
     "metadata": {
      "tags": []
     },
     "output_type": "execute_result"
    }
   ],
   "source": [
    "train.head()"
   ]
  },
  {
   "cell_type": "code",
   "execution_count": null,
   "id": "NoHQK1gwSBZ7",
   "metadata": {
    "colab": {
     "base_uri": "https://localhost:8080/",
     "height": 206
    },
    "id": "NoHQK1gwSBZ7",
    "outputId": "cee7fa80-90cc-4c71-cf3a-401ed9215108"
   },
   "outputs": [
    {
     "data": {
      "text/html": [
       "<div>\n",
       "<style scoped>\n",
       "    .dataframe tbody tr th:only-of-type {\n",
       "        vertical-align: middle;\n",
       "    }\n",
       "\n",
       "    .dataframe tbody tr th {\n",
       "        vertical-align: top;\n",
       "    }\n",
       "\n",
       "    .dataframe thead th {\n",
       "        text-align: right;\n",
       "    }\n",
       "</style>\n",
       "<table border=\"1\" class=\"dataframe\">\n",
       "  <thead>\n",
       "    <tr style=\"text-align: right;\">\n",
       "      <th></th>\n",
       "      <th>leaf.length</th>\n",
       "      <th>leaf.width</th>\n",
       "      <th>flower.length</th>\n",
       "      <th>flower.width</th>\n",
       "      <th>plant</th>\n",
       "    </tr>\n",
       "  </thead>\n",
       "  <tbody>\n",
       "    <tr>\n",
       "      <th>0</th>\n",
       "      <td>4.4</td>\n",
       "      <td>2.9</td>\n",
       "      <td>1.4</td>\n",
       "      <td>0.2</td>\n",
       "      <td>Arctica</td>\n",
       "    </tr>\n",
       "    <tr>\n",
       "      <th>1</th>\n",
       "      <td>4.6</td>\n",
       "      <td>3.1</td>\n",
       "      <td>1.5</td>\n",
       "      <td>0.2</td>\n",
       "      <td>Arctica</td>\n",
       "    </tr>\n",
       "    <tr>\n",
       "      <th>2</th>\n",
       "      <td>4.6</td>\n",
       "      <td>3.4</td>\n",
       "      <td>1.4</td>\n",
       "      <td>0.3</td>\n",
       "      <td>Arctica</td>\n",
       "    </tr>\n",
       "    <tr>\n",
       "      <th>3</th>\n",
       "      <td>4.7</td>\n",
       "      <td>3.2</td>\n",
       "      <td>1.3</td>\n",
       "      <td>0.2</td>\n",
       "      <td>Arctica</td>\n",
       "    </tr>\n",
       "    <tr>\n",
       "      <th>4</th>\n",
       "      <td>4.9</td>\n",
       "      <td>3.0</td>\n",
       "      <td>1.4</td>\n",
       "      <td>0.2</td>\n",
       "      <td>Arctica</td>\n",
       "    </tr>\n",
       "  </tbody>\n",
       "</table>\n",
       "</div>"
      ],
      "text/plain": [
       "   leaf.length  leaf.width  flower.length  flower.width    plant\n",
       "0          4.4         2.9            1.4           0.2  Arctica\n",
       "1          4.6         3.1            1.5           0.2  Arctica\n",
       "2          4.6         3.4            1.4           0.3  Arctica\n",
       "3          4.7         3.2            1.3           0.2  Arctica\n",
       "4          4.9         3.0            1.4           0.2  Arctica"
      ]
     },
     "execution_count": 173,
     "metadata": {
      "tags": []
     },
     "output_type": "execute_result"
    }
   ],
   "source": [
    "test.head()"
   ]
  },
  {
   "cell_type": "code",
   "execution_count": null,
   "id": "an1qwuz_cJ4k",
   "metadata": {
    "colab": {
     "base_uri": "https://localhost:8080/"
    },
    "id": "an1qwuz_cJ4k",
    "outputId": "9b96696e-f2b0-4227-db52-27db2ec6e0e2"
   },
   "outputs": [
    {
     "data": {
      "text/plain": [
       "120"
      ]
     },
     "execution_count": 174,
     "metadata": {
      "tags": []
     },
     "output_type": "execute_result"
    }
   ],
   "source": [
    "len(train.index)"
   ]
  },
  {
   "cell_type": "markdown",
   "id": "KPWlr18LhyPM",
   "metadata": {
    "id": "KPWlr18LhyPM"
   },
   "source": [
    "## Processing datasets\n",
    "\n",
    "Includes standard scaling of numerical values and one hot encoding of target variable (plant type)."
   ]
  },
  {
   "cell_type": "code",
   "execution_count": null,
   "id": "b40df0b7",
   "metadata": {
    "id": "b40df0b7"
   },
   "outputs": [],
   "source": [
    "from sklearn.preprocessing import LabelEncoder, OneHotEncoder, StandardScaler\n",
    "from sklearn.compose import ColumnTransformer\n",
    "from sklearn.pipeline import Pipeline"
   ]
  },
  {
   "cell_type": "code",
   "execution_count": null,
   "id": "Fi0G0zJaVdZ-",
   "metadata": {
    "id": "Fi0G0zJaVdZ-"
   },
   "outputs": [],
   "source": [
    "plant_num = train.drop(\"plant\", axis=1)\n",
    "num_pipeline = Pipeline([\n",
    "        ('std_scaler', StandardScaler()),\n",
    "    ])\n",
    "plant_num_tr = num_pipeline.fit_transform(plant_num)"
   ]
  },
  {
   "cell_type": "code",
   "execution_count": null,
   "id": "KxexWNY_S1Gl",
   "metadata": {
    "id": "KxexWNY_S1Gl"
   },
   "outputs": [],
   "source": [
    "num_attribs = list(plant_num)\n",
    "cat_attribs = [\"plant\"]\n",
    "\n",
    "full_pipeline = ColumnTransformer([\n",
    "        (\"num\", num_pipeline, num_attribs),\n",
    "        (\"cat\", OneHotEncoder(), cat_attribs),\n",
    "    ])\n",
    "plant_prepared = full_pipeline.fit_transform(train)\n",
    "plant_X = plant_prepared[:, 0:4].astype(float)\n",
    "plant_Y = plant_prepared[:, 4:]"
   ]
  },
  {
   "cell_type": "markdown",
   "id": "4tIKxLbeiJVu",
   "metadata": {
    "id": "4tIKxLbeiJVu"
   },
   "source": [
    "## Creating Neural Network"
   ]
  },
  {
   "cell_type": "code",
   "execution_count": null,
   "id": "TH9sAzwhTzSX",
   "metadata": {
    "id": "TH9sAzwhTzSX"
   },
   "outputs": [],
   "source": [
    "import tensorflow as tf\n",
    "from tensorflow import keras\n",
    "from tensorflow.keras import layers"
   ]
  },
  {
   "cell_type": "code",
   "execution_count": null,
   "id": "j4um40rGXBAH",
   "metadata": {
    "id": "j4um40rGXBAH"
   },
   "outputs": [],
   "source": [
    "model = keras.Sequential(\n",
    "[\n",
    "    layers.Dense(30, activation =\"relu\"),\n",
    "    layers.Dense(30, activation =\"relu\"),\n",
    "    layers.Dense(30, activation =\"relu\"),\n",
    "    layers.Dense(30, activation =\"relu\"),\n",
    "    layers.Dense(3, activation = \"softmax\")    \n",
    "])"
   ]
  },
  {
   "cell_type": "code",
   "execution_count": null,
   "id": "kOiBYdm8XpxS",
   "metadata": {
    "id": "kOiBYdm8XpxS"
   },
   "outputs": [],
   "source": [
    "model.compile(optimizer=\"adam\", loss='categorical_crossentropy', metrics=[\"accuracy\"]) #try changing optimizers"
   ]
  },
  {
   "cell_type": "code",
   "execution_count": null,
   "id": "BK4wZqcVX4mV",
   "metadata": {
    "colab": {
     "base_uri": "https://localhost:8080/"
    },
    "id": "BK4wZqcVX4mV",
    "outputId": "513d442c-23c1-4db7-fc5f-563fcd9d7f30"
   },
   "outputs": [
    {
     "name": "stdout",
     "output_type": "stream",
     "text": [
      "Epoch 1/20\n",
      "7/7 [==============================] - 1s 28ms/step - loss: 1.0948 - accuracy: 0.2083 - val_loss: 1.0023 - val_accuracy: 0.5417\n",
      "Epoch 2/20\n",
      "7/7 [==============================] - 0s 5ms/step - loss: 1.0111 - accuracy: 0.6771 - val_loss: 0.9632 - val_accuracy: 0.5417\n",
      "Epoch 3/20\n",
      "7/7 [==============================] - 0s 5ms/step - loss: 0.9223 - accuracy: 0.8958 - val_loss: 0.9016 - val_accuracy: 0.5417\n",
      "Epoch 4/20\n",
      "7/7 [==============================] - 0s 6ms/step - loss: 0.8275 - accuracy: 0.8958 - val_loss: 0.8660 - val_accuracy: 0.4583\n",
      "Epoch 5/20\n",
      "7/7 [==============================] - 0s 5ms/step - loss: 0.7223 - accuracy: 0.9167 - val_loss: 0.8078 - val_accuracy: 0.5417\n",
      "Epoch 6/20\n",
      "7/7 [==============================] - 0s 5ms/step - loss: 0.6104 - accuracy: 0.9167 - val_loss: 0.7430 - val_accuracy: 0.5833\n",
      "Epoch 7/20\n",
      "7/7 [==============================] - 0s 5ms/step - loss: 0.5093 - accuracy: 0.9167 - val_loss: 0.7303 - val_accuracy: 0.5833\n",
      "Epoch 8/20\n",
      "7/7 [==============================] - 0s 5ms/step - loss: 0.4285 - accuracy: 0.9167 - val_loss: 0.6528 - val_accuracy: 0.5833\n",
      "Epoch 9/20\n",
      "7/7 [==============================] - 0s 5ms/step - loss: 0.3748 - accuracy: 0.8854 - val_loss: 0.5860 - val_accuracy: 0.7083\n",
      "Epoch 10/20\n",
      "7/7 [==============================] - 0s 9ms/step - loss: 0.3330 - accuracy: 0.8958 - val_loss: 0.5918 - val_accuracy: 0.7083\n",
      "Epoch 11/20\n",
      "7/7 [==============================] - 0s 6ms/step - loss: 0.3016 - accuracy: 0.8958 - val_loss: 0.5884 - val_accuracy: 0.7083\n",
      "Epoch 12/20\n",
      "7/7 [==============================] - 0s 6ms/step - loss: 0.2816 - accuracy: 0.8958 - val_loss: 0.5611 - val_accuracy: 0.7083\n",
      "Epoch 13/20\n",
      "7/7 [==============================] - 0s 6ms/step - loss: 0.2575 - accuracy: 0.8958 - val_loss: 0.4199 - val_accuracy: 0.7917\n",
      "Epoch 14/20\n",
      "7/7 [==============================] - 0s 5ms/step - loss: 0.2426 - accuracy: 0.9167 - val_loss: 0.4494 - val_accuracy: 0.7917\n",
      "Epoch 15/20\n",
      "7/7 [==============================] - 0s 5ms/step - loss: 0.2278 - accuracy: 0.9271 - val_loss: 0.4880 - val_accuracy: 0.7500\n",
      "Epoch 16/20\n",
      "7/7 [==============================] - 0s 5ms/step - loss: 0.2087 - accuracy: 0.9271 - val_loss: 0.3936 - val_accuracy: 0.8333\n",
      "Epoch 17/20\n",
      "7/7 [==============================] - 0s 5ms/step - loss: 0.1937 - accuracy: 0.9375 - val_loss: 0.3675 - val_accuracy: 0.8333\n",
      "Epoch 18/20\n",
      "7/7 [==============================] - 0s 6ms/step - loss: 0.1752 - accuracy: 0.9479 - val_loss: 0.4803 - val_accuracy: 0.7083\n",
      "Epoch 19/20\n",
      "7/7 [==============================] - 0s 6ms/step - loss: 0.1626 - accuracy: 0.9479 - val_loss: 0.3846 - val_accuracy: 0.9167\n",
      "Epoch 20/20\n",
      "7/7 [==============================] - 0s 6ms/step - loss: 0.1470 - accuracy: 0.9688 - val_loss: 0.3433 - val_accuracy: 0.9167\n"
     ]
    },
    {
     "data": {
      "text/plain": [
       "<tensorflow.python.keras.callbacks.History at 0x7f981a0f0f50>"
      ]
     },
     "execution_count": 197,
     "metadata": {
      "tags": []
     },
     "output_type": "execute_result"
    }
   ],
   "source": [
    "model.fit(plant_X, plant_Y, epochs=20, validation_split=0.2, batch_size=15)"
   ]
  },
  {
   "cell_type": "markdown",
   "id": "BWjCqulpiPJT",
   "metadata": {
    "id": "BWjCqulpiPJT"
   },
   "source": [
    "## Process Test set before evaluating model"
   ]
  },
  {
   "cell_type": "code",
   "execution_count": null,
   "id": "xxpmRq6gceJO",
   "metadata": {
    "colab": {
     "base_uri": "https://localhost:8080/"
    },
    "id": "xxpmRq6gceJO",
    "outputId": "71734ac8-65e3-4f76-b852-449dddaf4068"
   },
   "outputs": [
    {
     "name": "stdout",
     "output_type": "stream",
     "text": [
      "1/1 [==============================] - 0s 15ms/step - loss: 0.2208 - accuracy: 0.9667\n"
     ]
    },
    {
     "data": {
      "text/plain": [
       "[0.22079992294311523, 0.9666666388511658]"
      ]
     },
     "execution_count": 198,
     "metadata": {
      "tags": []
     },
     "output_type": "execute_result"
    }
   ],
   "source": [
    "plant_test = full_pipeline.transform(test)\n",
    "\n",
    "plant_test_X = plant_test[:, 0:4].astype(float)\n",
    "plant_test_Y = plant_test[:, 4:]\n",
    "\n",
    "model.evaluate(plant_test_X, plant_test_Y)"
   ]
  },
  {
   "cell_type": "code",
   "execution_count": null,
   "id": "eYnMfCbydJDG",
   "metadata": {
    "colab": {
     "base_uri": "https://localhost:8080/"
    },
    "id": "eYnMfCbydJDG",
    "outputId": "b4f22496-1c8c-415c-c9a0-b2198ae1287f"
   },
   "outputs": [
    {
     "data": {
      "text/plain": [
       "array([[9.9843627e-01, 6.1664107e-04, 9.4704417e-04],\n",
       "       [9.9882835e-01, 5.1229651e-04, 6.5936375e-04],\n",
       "       [9.9942517e-01, 2.6918703e-04, 3.0566542e-04],\n",
       "       [9.9915016e-01, 3.8450584e-04, 4.6536259e-04],\n",
       "       [9.9750358e-01, 1.0354965e-03, 1.4609876e-03],\n",
       "       [9.9839741e-01, 6.9472310e-04, 9.0787240e-04],\n",
       "       [1.0430496e-02, 3.7340265e-02, 9.5222920e-01],\n",
       "       [2.9122152e-03, 1.2957321e-01, 8.6751455e-01],\n",
       "       [9.9938881e-01, 2.7597006e-04, 3.3523492e-04],\n",
       "       [9.9893171e-01, 4.8246823e-04, 5.8576383e-04],\n",
       "       [9.9906701e-01, 4.1784736e-04, 5.1521783e-04],\n",
       "       [1.1546876e-02, 7.7842399e-02, 9.1061074e-01],\n",
       "       [9.9871337e-01, 4.7573028e-04, 8.1093714e-04],\n",
       "       [6.4130273e-04, 5.7354778e-02, 9.4200391e-01],\n",
       "       [8.2690213e-03, 9.8502435e-02, 8.9322859e-01],\n",
       "       [1.8558435e-03, 5.7761359e-01, 4.2053056e-01],\n",
       "       [1.3873868e-02, 4.1099134e-01, 5.7513481e-01],\n",
       "       [2.3602064e-04, 9.6914434e-01, 3.0619631e-02],\n",
       "       [1.2727907e-03, 6.4034957e-01, 3.5837764e-01],\n",
       "       [1.1883520e-02, 3.3777159e-01, 6.5034491e-01],\n",
       "       [2.9508357e-03, 3.1018215e-01, 6.8686700e-01],\n",
       "       [2.5265524e-04, 9.3775076e-01, 6.1996609e-02],\n",
       "       [3.5254259e-03, 1.6857125e-01, 8.2790333e-01],\n",
       "       [1.3710868e-04, 6.4211017e-01, 3.5775280e-01],\n",
       "       [2.1018866e-03, 3.8897476e-01, 6.0892338e-01],\n",
       "       [3.1217465e-03, 2.4152899e-01, 7.5534928e-01],\n",
       "       [9.0345296e-05, 9.3651927e-01, 6.3390471e-02],\n",
       "       [8.2267346e-05, 9.8328257e-01, 1.6635174e-02],\n",
       "       [7.9067220e-05, 7.7282286e-01, 2.2709808e-01],\n",
       "       [1.3811538e-05, 9.4628632e-01, 5.3699896e-02]], dtype=float32)"
      ]
     },
     "execution_count": 202,
     "metadata": {
      "tags": []
     },
     "output_type": "execute_result"
    }
   ],
   "source": [
    "predictions = model.predict(plant_test_X)\n",
    "predictions"
   ]
  },
  {
   "cell_type": "code",
   "execution_count": null,
   "id": "gLGEJ5LcddSi",
   "metadata": {
    "colab": {
     "base_uri": "https://localhost:8080/"
    },
    "id": "gLGEJ5LcddSi",
    "outputId": "8091c371-4cec-4c07-9c3c-db8195745309"
   },
   "outputs": [
    {
     "name": "stdout",
     "output_type": "stream",
     "text": [
      "1/1 [==============================] - 0s 12ms/step\n"
     ]
    },
    {
     "name": "stderr",
     "output_type": "stream",
     "text": [
      "/usr/local/lib/python3.7/dist-packages/tensorflow/python/keras/engine/sequential.py:455: UserWarning: `model.predict_classes()` is deprecated and will be removed after 2021-01-01. Please use instead:* `np.argmax(model.predict(x), axis=-1)`,   if your model does multi-class classification   (e.g. if it uses a `softmax` last-layer activation).* `(model.predict(x) > 0.5).astype(\"int32\")`,   if your model does binary classification   (e.g. if it uses a `sigmoid` last-layer activation).\n",
      "  warnings.warn('`model.predict_classes()` is deprecated and '\n"
     ]
    },
    {
     "data": {
      "text/plain": [
       "array([0, 0, 0, 0, 0, 0, 2, 2, 0, 0, 0, 2, 0, 2, 2, 1, 2, 1, 1, 2, 2, 1,\n",
       "       2, 1, 2, 2, 1, 1, 1, 1])"
      ]
     },
     "execution_count": 203,
     "metadata": {
      "tags": []
     },
     "output_type": "execute_result"
    }
   ],
   "source": [
    "predictions = model.predict_classes(plant_test_X, verbose = 1)\n",
    "predictions"
   ]
  },
  {
   "cell_type": "code",
   "execution_count": null,
   "id": "C8IdIlcIj11e",
   "metadata": {
    "colab": {
     "base_uri": "https://localhost:8080/",
     "height": 989
    },
    "id": "C8IdIlcIj11e",
    "outputId": "1feab1e7-f9cf-496e-b610-61fd046451b6"
   },
   "outputs": [
    {
     "data": {
      "text/html": [
       "<div>\n",
       "<style scoped>\n",
       "    .dataframe tbody tr th:only-of-type {\n",
       "        vertical-align: middle;\n",
       "    }\n",
       "\n",
       "    .dataframe tbody tr th {\n",
       "        vertical-align: top;\n",
       "    }\n",
       "\n",
       "    .dataframe thead th {\n",
       "        text-align: right;\n",
       "    }\n",
       "</style>\n",
       "<table border=\"1\" class=\"dataframe\">\n",
       "  <thead>\n",
       "    <tr style=\"text-align: right;\">\n",
       "      <th></th>\n",
       "      <th>plant_pred</th>\n",
       "      <th>plant</th>\n",
       "    </tr>\n",
       "  </thead>\n",
       "  <tbody>\n",
       "    <tr>\n",
       "      <th>0</th>\n",
       "      <td>Artica</td>\n",
       "      <td>Arctica</td>\n",
       "    </tr>\n",
       "    <tr>\n",
       "      <th>1</th>\n",
       "      <td>Artica</td>\n",
       "      <td>Arctica</td>\n",
       "    </tr>\n",
       "    <tr>\n",
       "      <th>2</th>\n",
       "      <td>Artica</td>\n",
       "      <td>Arctica</td>\n",
       "    </tr>\n",
       "    <tr>\n",
       "      <th>3</th>\n",
       "      <td>Artica</td>\n",
       "      <td>Arctica</td>\n",
       "    </tr>\n",
       "    <tr>\n",
       "      <th>4</th>\n",
       "      <td>Artica</td>\n",
       "      <td>Arctica</td>\n",
       "    </tr>\n",
       "    <tr>\n",
       "      <th>5</th>\n",
       "      <td>Artica</td>\n",
       "      <td>Arctica</td>\n",
       "    </tr>\n",
       "    <tr>\n",
       "      <th>6</th>\n",
       "      <td>Harlequin</td>\n",
       "      <td>Harlequin</td>\n",
       "    </tr>\n",
       "    <tr>\n",
       "      <th>7</th>\n",
       "      <td>Harlequin</td>\n",
       "      <td>Carolinian</td>\n",
       "    </tr>\n",
       "    <tr>\n",
       "      <th>8</th>\n",
       "      <td>Artica</td>\n",
       "      <td>Arctica</td>\n",
       "    </tr>\n",
       "    <tr>\n",
       "      <th>9</th>\n",
       "      <td>Artica</td>\n",
       "      <td>Arctica</td>\n",
       "    </tr>\n",
       "    <tr>\n",
       "      <th>10</th>\n",
       "      <td>Artica</td>\n",
       "      <td>Arctica</td>\n",
       "    </tr>\n",
       "    <tr>\n",
       "      <th>11</th>\n",
       "      <td>Harlequin</td>\n",
       "      <td>Harlequin</td>\n",
       "    </tr>\n",
       "    <tr>\n",
       "      <th>12</th>\n",
       "      <td>Artica</td>\n",
       "      <td>Arctica</td>\n",
       "    </tr>\n",
       "    <tr>\n",
       "      <th>13</th>\n",
       "      <td>Harlequin</td>\n",
       "      <td>Harlequin</td>\n",
       "    </tr>\n",
       "    <tr>\n",
       "      <th>14</th>\n",
       "      <td>Harlequin</td>\n",
       "      <td>Harlequin</td>\n",
       "    </tr>\n",
       "    <tr>\n",
       "      <th>15</th>\n",
       "      <td>Carolinian</td>\n",
       "      <td>Carolinian</td>\n",
       "    </tr>\n",
       "    <tr>\n",
       "      <th>16</th>\n",
       "      <td>Harlequin</td>\n",
       "      <td>Harlequin</td>\n",
       "    </tr>\n",
       "    <tr>\n",
       "      <th>17</th>\n",
       "      <td>Carolinian</td>\n",
       "      <td>Carolinian</td>\n",
       "    </tr>\n",
       "    <tr>\n",
       "      <th>18</th>\n",
       "      <td>Carolinian</td>\n",
       "      <td>Carolinian</td>\n",
       "    </tr>\n",
       "    <tr>\n",
       "      <th>19</th>\n",
       "      <td>Harlequin</td>\n",
       "      <td>Harlequin</td>\n",
       "    </tr>\n",
       "    <tr>\n",
       "      <th>20</th>\n",
       "      <td>Harlequin</td>\n",
       "      <td>Harlequin</td>\n",
       "    </tr>\n",
       "    <tr>\n",
       "      <th>21</th>\n",
       "      <td>Carolinian</td>\n",
       "      <td>Carolinian</td>\n",
       "    </tr>\n",
       "    <tr>\n",
       "      <th>22</th>\n",
       "      <td>Harlequin</td>\n",
       "      <td>Harlequin</td>\n",
       "    </tr>\n",
       "    <tr>\n",
       "      <th>23</th>\n",
       "      <td>Carolinian</td>\n",
       "      <td>Carolinian</td>\n",
       "    </tr>\n",
       "    <tr>\n",
       "      <th>24</th>\n",
       "      <td>Harlequin</td>\n",
       "      <td>Harlequin</td>\n",
       "    </tr>\n",
       "    <tr>\n",
       "      <th>25</th>\n",
       "      <td>Harlequin</td>\n",
       "      <td>Harlequin</td>\n",
       "    </tr>\n",
       "    <tr>\n",
       "      <th>26</th>\n",
       "      <td>Carolinian</td>\n",
       "      <td>Carolinian</td>\n",
       "    </tr>\n",
       "    <tr>\n",
       "      <th>27</th>\n",
       "      <td>Carolinian</td>\n",
       "      <td>Carolinian</td>\n",
       "    </tr>\n",
       "    <tr>\n",
       "      <th>28</th>\n",
       "      <td>Carolinian</td>\n",
       "      <td>Carolinian</td>\n",
       "    </tr>\n",
       "    <tr>\n",
       "      <th>29</th>\n",
       "      <td>Carolinian</td>\n",
       "      <td>Carolinian</td>\n",
       "    </tr>\n",
       "  </tbody>\n",
       "</table>\n",
       "</div>"
      ],
      "text/plain": [
       "    plant_pred       plant\n",
       "0       Artica     Arctica\n",
       "1       Artica     Arctica\n",
       "2       Artica     Arctica\n",
       "3       Artica     Arctica\n",
       "4       Artica     Arctica\n",
       "5       Artica     Arctica\n",
       "6    Harlequin   Harlequin\n",
       "7    Harlequin  Carolinian\n",
       "8       Artica     Arctica\n",
       "9       Artica     Arctica\n",
       "10      Artica     Arctica\n",
       "11   Harlequin   Harlequin\n",
       "12      Artica     Arctica\n",
       "13   Harlequin   Harlequin\n",
       "14   Harlequin   Harlequin\n",
       "15  Carolinian  Carolinian\n",
       "16   Harlequin   Harlequin\n",
       "17  Carolinian  Carolinian\n",
       "18  Carolinian  Carolinian\n",
       "19   Harlequin   Harlequin\n",
       "20   Harlequin   Harlequin\n",
       "21  Carolinian  Carolinian\n",
       "22   Harlequin   Harlequin\n",
       "23  Carolinian  Carolinian\n",
       "24   Harlequin   Harlequin\n",
       "25   Harlequin   Harlequin\n",
       "26  Carolinian  Carolinian\n",
       "27  Carolinian  Carolinian\n",
       "28  Carolinian  Carolinian\n",
       "29  Carolinian  Carolinian"
      ]
     },
     "execution_count": 211,
     "metadata": {
      "tags": []
     },
     "output_type": "execute_result"
    }
   ],
   "source": [
    "df = pd.DataFrame(predictions, columns = ['plant_pred']).replace({0:'Artica', 1:'Carolinian', 2:'Harlequin'})\n",
    "df.join(test['plant'])"
   ]
  },
  {
   "cell_type": "code",
   "execution_count": null,
   "id": "qAcDtk3Mo27h",
   "metadata": {
    "id": "qAcDtk3Mo27h"
   },
   "outputs": [],
   "source": []
  }
 ],
 "metadata": {
  "accelerator": "GPU",
  "colab": {
   "collapsed_sections": [],
   "name": "Multi-class Classification NN.ipynb",
   "provenance": []
  },
  "kernelspec": {
   "display_name": "Python 3",
   "language": "python",
   "name": "python3"
  },
  "language_info": {
   "codemirror_mode": {
    "name": "ipython",
    "version": 3
   },
   "file_extension": ".py",
   "mimetype": "text/x-python",
   "name": "python",
   "nbconvert_exporter": "python",
   "pygments_lexer": "ipython3",
   "version": "3.8.3"
  }
 },
 "nbformat": 4,
 "nbformat_minor": 5
}
