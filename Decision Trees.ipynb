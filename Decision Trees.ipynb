{
 "cells": [
  {
   "cell_type": "code",
   "execution_count": 10,
   "metadata": {},
   "outputs": [
    {
     "name": "stdout",
     "output_type": "stream",
     "text": [
      "Decision Tree\n",
      "\n",
      "Start\n",
      "outlook\n",
      "\n",
      "overcast\n",
      "yes\n",
      "\n",
      "rainy\n",
      "yes\n",
      "\n",
      "sunny\n",
      "windy\n",
      "\n",
      "false\n",
      "yes\n",
      "\n",
      "true\n",
      "no\n",
      "\n"
     ]
    }
   ],
   "source": [
    "import numpy as np\n",
    "import math\n",
    "\n",
    "class Node(object):\n",
    "    def __init__(self):\n",
    "        self.value = None\n",
    "        self.decision = None\n",
    "        self.childs = []\n",
    "\n",
    "# dataset\n",
    "# data in columns\n",
    "# row1: outlook, row2: temp, row3: humidity, row4: windy, row5: play golf\n",
    "data= [['rainy', 'rainy', 'overcast', 'sunny', 'sunny', 'sunny', 'overcast', 'rainy', 'rainy', 'sunny', 'rainy', 'overcast', 'overcast', 'sunny','sunny', 'overcast', 'rainy', 'overcast'],\n",
    "       ['hot', 'hot', 'hot', 'mild', 'cool', 'cool', 'cool', 'mild', 'cool', 'mild', 'mild', 'mild', 'hot', 'mild','cool','mild','hot', 'cool'],\n",
    "       ['high', 'high', 'high', 'high', 'normal', 'normal', 'normal', 'high', 'normal', 'normal', 'normal', 'high', 'normal', 'high','high', 'normal','normal','high'],\n",
    "       ['false', 'true', 'false', 'false', 'false', 'true', 'true', 'false', 'false', 'false', 'true', 'true', 'false', 'true','false','true','true','true'],\n",
    "       ['no', 'no', 'yes', 'yes', 'yes', 'no', 'yes', 'no', 'yes', 'yes', 'yes', 'yes', 'yes', 'no', 'yes', 'yes', 'yes', 'yes']]\n",
    "data = np.asarray(data)\n",
    "\n",
    "allAttributes = ['outlook', 'temp', 'humidity', 'windy']\n",
    "\n",
    "# print(data.shape)\n",
    "\n",
    "x = data[0:3,:] #attributes\n",
    "y = data[4,:] #play golf\n",
    "\n",
    "# calculate entropy\n",
    "def calEntropy (p, n):\n",
    "    #this function calculates the  entropy,means you have to implement the formula of entropy here.\n",
    "    #write down your code here\n",
    "    if p == 0 or n == 0: \n",
    "        return 0\n",
    " \n",
    "    return -((p/(p+n)) * np.log2(p/(p+n))) - ((n/(p+n)) * np.log2(n/(p+n))) \n",
    "\n",
    "def entropy(dataset):\n",
    "    p = len(dataset[-1,(dataset[-1,:]=='yes')]) #number of positive labels\n",
    "    n = len(dataset[-1,(dataset[-1,:]=='no')]) #number of positive labels\n",
    "    return calEntropy(p,n)\n",
    "\n",
    "# attr is row index of specific attribute in dataset array\n",
    "def entropyAfter(dataset, attr):\n",
    "    uniqueValues, count = np.unique(dataset[attr, :], return_counts=True)\n",
    "    i=0\n",
    "    ent = 0\n",
    "    for val in uniqueValues:\n",
    "        p = len(dataset[attr, ( (dataset[attr,:]==val) & (dataset[-1,:]=='yes') )])\n",
    "        n = len(dataset[attr, ( (dataset[attr,:]==val) & (dataset[-1,:]=='no') )])\n",
    "        ent  = ent + ( count[i]/len(dataset[attr,:]) )*calEntropy(p,n)\n",
    "        i = i+1\n",
    "    return ent\n",
    "\n",
    "# print(entropyAfter(data, 0))#testing entropy after function\n",
    "\n",
    "# attributes = list of attributes currently in dataset (narrows down as tree grows)\n",
    "\n",
    "def infoGain(dataset, attributes, attribute):\n",
    "    #implement the formula of info gain here\n",
    "    #you have to write your own piece of code to compute info gain\n",
    "    ind = attributes.index(attribute)\n",
    "    return entropy(dataset) - entropyAfter(dataset, ind)\n",
    "\n",
    "# print(infoGain(data, allAttributes, \"outlook\")) #testing infoGain function\n",
    "\n",
    "def getNode(dataset, attributes):\n",
    "    maxInfo=-1\n",
    "    maxAttr = ''\n",
    "    ans = entropy(dataset)\n",
    "    for attr in attributes:\n",
    "        info = infoGain(dataset, attributes, attr)\n",
    "        if info>maxInfo:\n",
    "            maxInfo = info\n",
    "            maxAttr = attr\n",
    "    return maxAttr, maxInfo, ans\n",
    "\n",
    "# print(\"\\nRoot decision: \", getNode(data, allAttributes), \"\\n\") #test getNode function\n",
    "\n",
    "def buildTree(dataset, attributes):\n",
    "    attr, info, ans = getNode(dataset, attributes)\n",
    "    root = Node()\n",
    "    if ans == 1:   \n",
    "        #print(\"always yess!!!\\n\")\n",
    "        root.decision = 'yes'\n",
    "        #root.value = \"arrived at yes\"\n",
    "        return root\n",
    "    if ans == 0:\n",
    "        #print(\"always no!!!\\n\")\n",
    "        root.decision = dataset[-1,1]\n",
    "        #root.value = \"arrived at no\"\n",
    "        return root\n",
    "\n",
    "    root.decision = attr\n",
    "\n",
    "    attrRow = attributes.index(attr) #find row correspond to the attribute attr\n",
    "    possibleValues = np.unique(dataset[attrRow, :]) # unique values of attribute\n",
    "    for val in possibleValues:\n",
    "        tempData = dataset[:, (dataset[attrRow, :]==val)] # narrowing data\n",
    "        tempData = np.delete(tempData, attrRow, 0) # removing attribute row\n",
    "        tempAttrList = attributes[:]\n",
    "        tempAttrList.remove(attr) # remove attribute from list of attributes\n",
    "        tempTree = buildTree(tempData, tempAttrList) # recursively build tree\n",
    "        tempTree.value = val\n",
    "        root.childs.append(tempTree)\n",
    "\n",
    "    return root\n",
    "\n",
    "def traverse(root):\n",
    "    print(root.value)\n",
    "    print(root.decision)\n",
    "    \n",
    "    print(\"\")\n",
    "\n",
    "    for child in root.childs:\n",
    "        traverse(child)\n",
    "\n",
    "print(\"Decision Tree\\n\")\n",
    "root = buildTree(data, allAttributes)\n",
    "root.value = 'Start'\n",
    "traverse(root)\n",
    "\n",
    "#predict using decision tree\n",
    "def predict(node, attributeHeadings, attributeValues):\n",
    "    #you have to think about and write your own piece of code to make the above constructed decision tree predict results\n",
    "    #you have to write your own piece of code here\n",
    "    \n",
    "    if node.childs == []:\n",
    "        return node.decision\n",
    "    \n",
    "    for nextnode in node.childs:\n",
    "        if nextnode.value in attributeValues:\n",
    "            ans = predict(nextnode, attributeHeadings, attributeValues)\n",
    "        if nextnode.value in attributeHeadings:\n",
    "            ans = predict(nextnode, attributeHeadings, attributeValues)\n",
    "    \n",
    "    return ans"
   ]
  },
  {
   "cell_type": "code",
   "execution_count": 2,
   "metadata": {},
   "outputs": [
    {
     "name": "stdout",
     "output_type": "stream",
     "text": [
      "yes\n"
     ]
    }
   ],
   "source": [
    "testcase1 = predict(root, allAttributes, [\"sunny\", \"cool\", \"high\", \"false\"])\n",
    "print(testcase1)"
   ]
  },
  {
   "cell_type": "code",
   "execution_count": 3,
   "metadata": {},
   "outputs": [
    {
     "name": "stdout",
     "output_type": "stream",
     "text": [
      "yes\n"
     ]
    }
   ],
   "source": [
    "testcase2 = predict(root, allAttributes, [\"overcast\", \"mild\", \"normal\", \"true\"])\n",
    "print(testcase2)"
   ]
  },
  {
   "cell_type": "code",
   "execution_count": 4,
   "metadata": {},
   "outputs": [
    {
     "name": "stdout",
     "output_type": "stream",
     "text": [
      "yes\n"
     ]
    }
   ],
   "source": [
    "testcase3 = predict(root, allAttributes, [\"rainy\", \"hot\", \"normal\", \"true\"])\n",
    "print(testcase3)"
   ]
  },
  {
   "cell_type": "code",
   "execution_count": 5,
   "metadata": {},
   "outputs": [
    {
     "name": "stdout",
     "output_type": "stream",
     "text": [
      "yes\n"
     ]
    }
   ],
   "source": [
    "testcase4 = predict(root, allAttributes, [\"overcast\", \"cool\", \"high\", \"true\"])\n",
    "print(testcase4)"
   ]
  },
  {
   "cell_type": "code",
   "execution_count": 11,
   "metadata": {},
   "outputs": [
    {
     "name": "stdout",
     "output_type": "stream",
     "text": [
      "yes\n"
     ]
    }
   ],
   "source": [
    "specialtest = predict(root, allAttributes, [\"sunny\", \"cool\", \"high\", \"false\"])\n",
    "print(specialtest)"
   ]
  },
  {
   "cell_type": "code",
   "execution_count": null,
   "metadata": {},
   "outputs": [],
   "source": []
  }
 ],
 "metadata": {
  "kernelspec": {
   "display_name": "Python 3",
   "language": "python",
   "name": "python3"
  },
  "language_info": {
   "codemirror_mode": {
    "name": "ipython",
    "version": 3
   },
   "file_extension": ".py",
   "mimetype": "text/x-python",
   "name": "python",
   "nbconvert_exporter": "python",
   "pygments_lexer": "ipython3",
   "version": "3.8.3"
  }
 },
 "nbformat": 4,
 "nbformat_minor": 2
}
