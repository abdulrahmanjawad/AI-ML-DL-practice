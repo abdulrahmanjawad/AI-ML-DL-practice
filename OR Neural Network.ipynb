{
 "cells": [
  {
   "cell_type": "code",
   "execution_count": 1,
   "metadata": {},
   "outputs": [],
   "source": [
    "import numpy as np"
   ]
  },
  {
   "cell_type": "code",
   "execution_count": 2,
   "metadata": {},
   "outputs": [],
   "source": [
    "input_features = np.array([[0, 0], [0, 1], [1, 0], [1, 1]])\n",
    "target_output = np.array([[0, 1, 1, 0]])\n",
    "target_output = target_output.reshape(4, 1)\n",
    "\n",
    "weight_hidden = np.array([[0.1, 0.2], [0.4, 0.5]])\n",
    "weight_output = np.array([[0.7], [0.8]])\n",
    "alpha = 0.1"
   ]
  },
  {
   "cell_type": "code",
   "execution_count": 3,
   "metadata": {},
   "outputs": [],
   "source": [
    "def sigmoid(x):\n",
    "    return 1 / (1 + np.exp(-x))"
   ]
  },
  {
   "cell_type": "code",
   "execution_count": 4,
   "metadata": {
    "scrolled": false
   },
   "outputs": [
    {
     "name": "stdout",
     "output_type": "stream",
     "text": [
      "0.5819246322943903\n",
      "0.48693061201312515\n",
      "0.11589099888431317\n",
      "0.05569445499813723\n",
      "0.03536683881534207\n",
      "0.025545267784494584\n",
      "0.019850910689251166\n",
      "0.01616552138462511\n",
      "0.01359848813274726\n",
      "0.011714082311699344\n",
      "0.01027528371122987\n",
      "0.009142634616718543\n",
      "0.008228961754741294\n",
      "0.007477088184872818\n",
      "0.0068480128739367326\n",
      "0.006314253030770238\n",
      "0.005855903486031449\n",
      "0.005458205030637249\n",
      "0.005109989677515485\n",
      "0.004802655704901343\n",
      "0.004529473689375604\n",
      "0.00428510548992448\n",
      "0.0040652638322645615\n",
      "0.0038664668839330993\n",
      "0.003685858340149114\n",
      "0.0035210735338847858\n",
      "0.003370138426313813\n",
      "0.0032313924480910266\n",
      "0.0031034288839653494\n",
      "0.0029850483269333815\n",
      "0.0028752219839785352\n",
      "0.0027730624886716836\n",
      "0.0026778004916680155\n",
      "0.002588765739996013\n",
      "0.0025053716740537136\n",
      "0.0024271028037402328\n",
      "0.002353504296931197\n",
      "0.002284173341671513\n",
      "0.0022187519399562584\n",
      "0.0021569208642500245\n",
      "0.0020983945640077463\n",
      "0.002042916852739083\n",
      "0.0019902572397986823\n",
      "0.001940207797396324\n",
      "0.0018925804740449609\n",
      "0.0018472047820807785\n",
      "0.0018039257999732262\n",
      "0.0017626024406286515\n",
      "0.0017231059453336403\n",
      "0.0016853185698260805\n"
     ]
    }
   ],
   "source": [
    "for i in range(500000):\n",
    "    input_hidden = np.dot(input_features, weight_hidden)\n",
    "    output_hidden = sigmoid(input_hidden)\n",
    "    input_output = np.dot(output_hidden, weight_output)\n",
    "    output_output = sigmoid(input_output)\n",
    "\n",
    "    error_out = ((1 / 2) * (np.power((output_output - target_output), 2)))\n",
    "\n",
    "    if i % 10000 == 0:\n",
    "        print(error_out.sum())\n",
    "\n",
    "    # Back propagation for output layer weights\n",
    "    outy = sigmoid(input_output)\n",
    "    outH = sigmoid(input_hidden)\n",
    "\n",
    "    derror_douty = output_output - target_output\n",
    "    douty_dy = outy * (1 - outy)\n",
    "    dy_doutputhidenlayer = output_hidden\n",
    "    derror_doutputlayerweights = np.dot(dy_doutputhidenlayer.T, derror_douty * douty_dy)\n",
    "\n",
    "    # Back propagation for hidden layer weights\n",
    "    derror_dy = derror_douty * douty_dy\n",
    "    dy_doutH = weight_output\n",
    "    derror_douth = np.dot(derror_dy, dy_doutH.T)\n",
    "    douth_dH = outH * (1 - outH)\n",
    "    dH_dwH = input_features\n",
    "    derror_wh = np.dot(dH_dwH.T, douth_dH * derror_douth)\n",
    "\n",
    "    weight_hidden = weight_hidden - (alpha * derror_wh)\n",
    "    weight_output = weight_output - (alpha * derror_doutputlayerweights)"
   ]
  },
  {
   "cell_type": "code",
   "execution_count": 5,
   "metadata": {},
   "outputs": [
    {
     "name": "stdout",
     "output_type": "stream",
     "text": [
      "Predictions:\n",
      "[0,0]=[0.01071109]\n",
      "[1,0]=[0.97106488]\n",
      "[0,1]=[0.97106487]\n",
      "[1,1]=[0.03884655]\n"
     ]
    }
   ],
   "source": [
    "print(\"Predictions:\")\n",
    "result = sigmoid(np.dot(sigmoid(np.dot(np.array([0, 0]), weight_hidden)), weight_output))\n",
    "print(\"[0,0]=\" + str(result))\n",
    "result = sigmoid(np.dot(sigmoid(np.dot(np.array([1, 0]), weight_hidden)), weight_output))\n",
    "print(\"[1,0]=\" + str(result))\n",
    "result = sigmoid(np.dot(sigmoid(np.dot(np.array([0, 1]), weight_hidden)), weight_output))\n",
    "print(\"[0,1]=\" + str(result))\n",
    "result = sigmoid(np.dot(sigmoid(np.dot(np.array([1, 1]), weight_hidden)), weight_output))\n",
    "print(\"[1,1]=\" + str(result))"
   ]
  },
  {
   "cell_type": "code",
   "execution_count": null,
   "metadata": {},
   "outputs": [],
   "source": []
  }
 ],
 "metadata": {
  "kernelspec": {
   "display_name": "Python 3",
   "language": "python",
   "name": "python3"
  },
  "language_info": {
   "codemirror_mode": {
    "name": "ipython",
    "version": 3
   },
   "file_extension": ".py",
   "mimetype": "text/x-python",
   "name": "python",
   "nbconvert_exporter": "python",
   "pygments_lexer": "ipython3",
   "version": "3.8.3"
  }
 },
 "nbformat": 4,
 "nbformat_minor": 4
}
